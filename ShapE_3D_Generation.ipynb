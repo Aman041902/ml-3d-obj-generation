{
  "nbformat": 4,
  "nbformat_minor": 0,
  "metadata": {
    "colab": {
      "provenance": [],
      "gpuType": "T4"
    },
    "kernelspec": {
      "name": "python3",
      "display_name": "Python 3"
    },
    "language_info": {
      "name": "python"
    },
    "accelerator": "GPU",
    "widgets": {
      "application/vnd.jupyter.widget-state+json": {
        "e86250c6d94b4eab876d16903eb95528": {
          "model_module": "@jupyter-widgets/controls",
          "model_name": "HBoxModel",
          "model_module_version": "1.5.0",
          "state": {
            "_dom_classes": [],
            "_model_module": "@jupyter-widgets/controls",
            "_model_module_version": "1.5.0",
            "_model_name": "HBoxModel",
            "_view_count": null,
            "_view_module": "@jupyter-widgets/controls",
            "_view_module_version": "1.5.0",
            "_view_name": "HBoxView",
            "box_style": "",
            "children": [
              "IPY_MODEL_78c7be77c2dd453aacf8936b6083d3cf",
              "IPY_MODEL_c9c98c8ce6dd4e67aee9dde3b7702efc",
              "IPY_MODEL_a57c720c42de49888d3ff95093b41842"
            ],
            "layout": "IPY_MODEL_7c93564005ef45f5869d2329a60eb201"
          }
        },
        "78c7be77c2dd453aacf8936b6083d3cf": {
          "model_module": "@jupyter-widgets/controls",
          "model_name": "HTMLModel",
          "model_module_version": "1.5.0",
          "state": {
            "_dom_classes": [],
            "_model_module": "@jupyter-widgets/controls",
            "_model_module_version": "1.5.0",
            "_model_name": "HTMLModel",
            "_view_count": null,
            "_view_module": "@jupyter-widgets/controls",
            "_view_module_version": "1.5.0",
            "_view_name": "HTMLView",
            "description": "",
            "description_tooltip": null,
            "layout": "IPY_MODEL_1945803cd9534d498b0e18e914e3f3ed",
            "placeholder": "​",
            "style": "IPY_MODEL_46b525eda53447bfad13fd40b03b55f3",
            "value": "100%"
          }
        },
        "c9c98c8ce6dd4e67aee9dde3b7702efc": {
          "model_module": "@jupyter-widgets/controls",
          "model_name": "FloatProgressModel",
          "model_module_version": "1.5.0",
          "state": {
            "_dom_classes": [],
            "_model_module": "@jupyter-widgets/controls",
            "_model_module_version": "1.5.0",
            "_model_name": "FloatProgressModel",
            "_view_count": null,
            "_view_module": "@jupyter-widgets/controls",
            "_view_module_version": "1.5.0",
            "_view_name": "ProgressView",
            "bar_style": "success",
            "description": "",
            "description_tooltip": null,
            "layout": "IPY_MODEL_2a907b714fe44545aa1b7085843d829e",
            "max": 1776048343,
            "min": 0,
            "orientation": "horizontal",
            "style": "IPY_MODEL_9da090f7fb5a4d41bb595547f927f00a",
            "value": 1776048343
          }
        },
        "a57c720c42de49888d3ff95093b41842": {
          "model_module": "@jupyter-widgets/controls",
          "model_name": "HTMLModel",
          "model_module_version": "1.5.0",
          "state": {
            "_dom_classes": [],
            "_model_module": "@jupyter-widgets/controls",
            "_model_module_version": "1.5.0",
            "_model_name": "HTMLModel",
            "_view_count": null,
            "_view_module": "@jupyter-widgets/controls",
            "_view_module_version": "1.5.0",
            "_view_name": "HTMLView",
            "description": "",
            "description_tooltip": null,
            "layout": "IPY_MODEL_07307cfe61ef44ad822d9ab4160f7ceb",
            "placeholder": "​",
            "style": "IPY_MODEL_897efbf577ae465e917cd5f95791471c",
            "value": " 1.78G/1.78G [14:50&lt;00:00, 5.71MiB/s]"
          }
        },
        "7c93564005ef45f5869d2329a60eb201": {
          "model_module": "@jupyter-widgets/base",
          "model_name": "LayoutModel",
          "model_module_version": "1.2.0",
          "state": {
            "_model_module": "@jupyter-widgets/base",
            "_model_module_version": "1.2.0",
            "_model_name": "LayoutModel",
            "_view_count": null,
            "_view_module": "@jupyter-widgets/base",
            "_view_module_version": "1.2.0",
            "_view_name": "LayoutView",
            "align_content": null,
            "align_items": null,
            "align_self": null,
            "border": null,
            "bottom": null,
            "display": null,
            "flex": null,
            "flex_flow": null,
            "grid_area": null,
            "grid_auto_columns": null,
            "grid_auto_flow": null,
            "grid_auto_rows": null,
            "grid_column": null,
            "grid_gap": null,
            "grid_row": null,
            "grid_template_areas": null,
            "grid_template_columns": null,
            "grid_template_rows": null,
            "height": null,
            "justify_content": null,
            "justify_items": null,
            "left": null,
            "margin": null,
            "max_height": null,
            "max_width": null,
            "min_height": null,
            "min_width": null,
            "object_fit": null,
            "object_position": null,
            "order": null,
            "overflow": null,
            "overflow_x": null,
            "overflow_y": null,
            "padding": null,
            "right": null,
            "top": null,
            "visibility": null,
            "width": null
          }
        },
        "1945803cd9534d498b0e18e914e3f3ed": {
          "model_module": "@jupyter-widgets/base",
          "model_name": "LayoutModel",
          "model_module_version": "1.2.0",
          "state": {
            "_model_module": "@jupyter-widgets/base",
            "_model_module_version": "1.2.0",
            "_model_name": "LayoutModel",
            "_view_count": null,
            "_view_module": "@jupyter-widgets/base",
            "_view_module_version": "1.2.0",
            "_view_name": "LayoutView",
            "align_content": null,
            "align_items": null,
            "align_self": null,
            "border": null,
            "bottom": null,
            "display": null,
            "flex": null,
            "flex_flow": null,
            "grid_area": null,
            "grid_auto_columns": null,
            "grid_auto_flow": null,
            "grid_auto_rows": null,
            "grid_column": null,
            "grid_gap": null,
            "grid_row": null,
            "grid_template_areas": null,
            "grid_template_columns": null,
            "grid_template_rows": null,
            "height": null,
            "justify_content": null,
            "justify_items": null,
            "left": null,
            "margin": null,
            "max_height": null,
            "max_width": null,
            "min_height": null,
            "min_width": null,
            "object_fit": null,
            "object_position": null,
            "order": null,
            "overflow": null,
            "overflow_x": null,
            "overflow_y": null,
            "padding": null,
            "right": null,
            "top": null,
            "visibility": null,
            "width": null
          }
        },
        "46b525eda53447bfad13fd40b03b55f3": {
          "model_module": "@jupyter-widgets/controls",
          "model_name": "DescriptionStyleModel",
          "model_module_version": "1.5.0",
          "state": {
            "_model_module": "@jupyter-widgets/controls",
            "_model_module_version": "1.5.0",
            "_model_name": "DescriptionStyleModel",
            "_view_count": null,
            "_view_module": "@jupyter-widgets/base",
            "_view_module_version": "1.2.0",
            "_view_name": "StyleView",
            "description_width": ""
          }
        },
        "2a907b714fe44545aa1b7085843d829e": {
          "model_module": "@jupyter-widgets/base",
          "model_name": "LayoutModel",
          "model_module_version": "1.2.0",
          "state": {
            "_model_module": "@jupyter-widgets/base",
            "_model_module_version": "1.2.0",
            "_model_name": "LayoutModel",
            "_view_count": null,
            "_view_module": "@jupyter-widgets/base",
            "_view_module_version": "1.2.0",
            "_view_name": "LayoutView",
            "align_content": null,
            "align_items": null,
            "align_self": null,
            "border": null,
            "bottom": null,
            "display": null,
            "flex": null,
            "flex_flow": null,
            "grid_area": null,
            "grid_auto_columns": null,
            "grid_auto_flow": null,
            "grid_auto_rows": null,
            "grid_column": null,
            "grid_gap": null,
            "grid_row": null,
            "grid_template_areas": null,
            "grid_template_columns": null,
            "grid_template_rows": null,
            "height": null,
            "justify_content": null,
            "justify_items": null,
            "left": null,
            "margin": null,
            "max_height": null,
            "max_width": null,
            "min_height": null,
            "min_width": null,
            "object_fit": null,
            "object_position": null,
            "order": null,
            "overflow": null,
            "overflow_x": null,
            "overflow_y": null,
            "padding": null,
            "right": null,
            "top": null,
            "visibility": null,
            "width": null
          }
        },
        "9da090f7fb5a4d41bb595547f927f00a": {
          "model_module": "@jupyter-widgets/controls",
          "model_name": "ProgressStyleModel",
          "model_module_version": "1.5.0",
          "state": {
            "_model_module": "@jupyter-widgets/controls",
            "_model_module_version": "1.5.0",
            "_model_name": "ProgressStyleModel",
            "_view_count": null,
            "_view_module": "@jupyter-widgets/base",
            "_view_module_version": "1.2.0",
            "_view_name": "StyleView",
            "bar_color": null,
            "description_width": ""
          }
        },
        "07307cfe61ef44ad822d9ab4160f7ceb": {
          "model_module": "@jupyter-widgets/base",
          "model_name": "LayoutModel",
          "model_module_version": "1.2.0",
          "state": {
            "_model_module": "@jupyter-widgets/base",
            "_model_module_version": "1.2.0",
            "_model_name": "LayoutModel",
            "_view_count": null,
            "_view_module": "@jupyter-widgets/base",
            "_view_module_version": "1.2.0",
            "_view_name": "LayoutView",
            "align_content": null,
            "align_items": null,
            "align_self": null,
            "border": null,
            "bottom": null,
            "display": null,
            "flex": null,
            "flex_flow": null,
            "grid_area": null,
            "grid_auto_columns": null,
            "grid_auto_flow": null,
            "grid_auto_rows": null,
            "grid_column": null,
            "grid_gap": null,
            "grid_row": null,
            "grid_template_areas": null,
            "grid_template_columns": null,
            "grid_template_rows": null,
            "height": null,
            "justify_content": null,
            "justify_items": null,
            "left": null,
            "margin": null,
            "max_height": null,
            "max_width": null,
            "min_height": null,
            "min_width": null,
            "object_fit": null,
            "object_position": null,
            "order": null,
            "overflow": null,
            "overflow_x": null,
            "overflow_y": null,
            "padding": null,
            "right": null,
            "top": null,
            "visibility": null,
            "width": null
          }
        },
        "897efbf577ae465e917cd5f95791471c": {
          "model_module": "@jupyter-widgets/controls",
          "model_name": "DescriptionStyleModel",
          "model_module_version": "1.5.0",
          "state": {
            "_model_module": "@jupyter-widgets/controls",
            "_model_module_version": "1.5.0",
            "_model_name": "DescriptionStyleModel",
            "_view_count": null,
            "_view_module": "@jupyter-widgets/base",
            "_view_module_version": "1.2.0",
            "_view_name": "StyleView",
            "description_width": ""
          }
        },
        "da1a1e47e06d4a91b6529653bfea546b": {
          "model_module": "@jupyter-widgets/controls",
          "model_name": "HBoxModel",
          "model_module_version": "1.5.0",
          "state": {
            "_dom_classes": [],
            "_model_module": "@jupyter-widgets/controls",
            "_model_module_version": "1.5.0",
            "_model_name": "HBoxModel",
            "_view_count": null,
            "_view_module": "@jupyter-widgets/controls",
            "_view_module_version": "1.5.0",
            "_view_name": "HBoxView",
            "box_style": "",
            "children": [
              "IPY_MODEL_1766cc3b3f6d4b4bb87e245d67a26ec4",
              "IPY_MODEL_9e9d9ae9beb346b99bb31fcad8884f66",
              "IPY_MODEL_ba8b4a945fe84756b184bdfc710918c6"
            ],
            "layout": "IPY_MODEL_a8cd6e6e0d9348d180ffb7d4c2b9b636"
          }
        },
        "1766cc3b3f6d4b4bb87e245d67a26ec4": {
          "model_module": "@jupyter-widgets/controls",
          "model_name": "HTMLModel",
          "model_module_version": "1.5.0",
          "state": {
            "_dom_classes": [],
            "_model_module": "@jupyter-widgets/controls",
            "_model_module_version": "1.5.0",
            "_model_name": "HTMLModel",
            "_view_count": null,
            "_view_module": "@jupyter-widgets/controls",
            "_view_module_version": "1.5.0",
            "_view_name": "HTMLView",
            "description": "",
            "description_tooltip": null,
            "layout": "IPY_MODEL_1391a5e0c096485fb472115668f5b69b",
            "placeholder": "​",
            "style": "IPY_MODEL_a3b258aec61f4c0097b67b6ca2e1e364",
            "value": "100%"
          }
        },
        "9e9d9ae9beb346b99bb31fcad8884f66": {
          "model_module": "@jupyter-widgets/controls",
          "model_name": "FloatProgressModel",
          "model_module_version": "1.5.0",
          "state": {
            "_dom_classes": [],
            "_model_module": "@jupyter-widgets/controls",
            "_model_module_version": "1.5.0",
            "_model_name": "FloatProgressModel",
            "_view_count": null,
            "_view_module": "@jupyter-widgets/controls",
            "_view_module_version": "1.5.0",
            "_view_name": "ProgressView",
            "bar_style": "success",
            "description": "",
            "description_tooltip": null,
            "layout": "IPY_MODEL_6cde6bc019d64e3dbcb237a5cff00011",
            "max": 64,
            "min": 0,
            "orientation": "horizontal",
            "style": "IPY_MODEL_2efcfb4320b9447a85b49a93590a4d02",
            "value": 64
          }
        },
        "ba8b4a945fe84756b184bdfc710918c6": {
          "model_module": "@jupyter-widgets/controls",
          "model_name": "HTMLModel",
          "model_module_version": "1.5.0",
          "state": {
            "_dom_classes": [],
            "_model_module": "@jupyter-widgets/controls",
            "_model_module_version": "1.5.0",
            "_model_name": "HTMLModel",
            "_view_count": null,
            "_view_module": "@jupyter-widgets/controls",
            "_view_module_version": "1.5.0",
            "_view_name": "HTMLView",
            "description": "",
            "description_tooltip": null,
            "layout": "IPY_MODEL_4567db2f749a4a329249ce8a10f8a19e",
            "placeholder": "​",
            "style": "IPY_MODEL_13a2e3967cd34e47a03a569ad8407791",
            "value": " 64/64 [02:02&lt;00:00,  1.65s/it]"
          }
        },
        "a8cd6e6e0d9348d180ffb7d4c2b9b636": {
          "model_module": "@jupyter-widgets/base",
          "model_name": "LayoutModel",
          "model_module_version": "1.2.0",
          "state": {
            "_model_module": "@jupyter-widgets/base",
            "_model_module_version": "1.2.0",
            "_model_name": "LayoutModel",
            "_view_count": null,
            "_view_module": "@jupyter-widgets/base",
            "_view_module_version": "1.2.0",
            "_view_name": "LayoutView",
            "align_content": null,
            "align_items": null,
            "align_self": null,
            "border": null,
            "bottom": null,
            "display": null,
            "flex": null,
            "flex_flow": null,
            "grid_area": null,
            "grid_auto_columns": null,
            "grid_auto_flow": null,
            "grid_auto_rows": null,
            "grid_column": null,
            "grid_gap": null,
            "grid_row": null,
            "grid_template_areas": null,
            "grid_template_columns": null,
            "grid_template_rows": null,
            "height": null,
            "justify_content": null,
            "justify_items": null,
            "left": null,
            "margin": null,
            "max_height": null,
            "max_width": null,
            "min_height": null,
            "min_width": null,
            "object_fit": null,
            "object_position": null,
            "order": null,
            "overflow": null,
            "overflow_x": null,
            "overflow_y": null,
            "padding": null,
            "right": null,
            "top": null,
            "visibility": null,
            "width": null
          }
        },
        "1391a5e0c096485fb472115668f5b69b": {
          "model_module": "@jupyter-widgets/base",
          "model_name": "LayoutModel",
          "model_module_version": "1.2.0",
          "state": {
            "_model_module": "@jupyter-widgets/base",
            "_model_module_version": "1.2.0",
            "_model_name": "LayoutModel",
            "_view_count": null,
            "_view_module": "@jupyter-widgets/base",
            "_view_module_version": "1.2.0",
            "_view_name": "LayoutView",
            "align_content": null,
            "align_items": null,
            "align_self": null,
            "border": null,
            "bottom": null,
            "display": null,
            "flex": null,
            "flex_flow": null,
            "grid_area": null,
            "grid_auto_columns": null,
            "grid_auto_flow": null,
            "grid_auto_rows": null,
            "grid_column": null,
            "grid_gap": null,
            "grid_row": null,
            "grid_template_areas": null,
            "grid_template_columns": null,
            "grid_template_rows": null,
            "height": null,
            "justify_content": null,
            "justify_items": null,
            "left": null,
            "margin": null,
            "max_height": null,
            "max_width": null,
            "min_height": null,
            "min_width": null,
            "object_fit": null,
            "object_position": null,
            "order": null,
            "overflow": null,
            "overflow_x": null,
            "overflow_y": null,
            "padding": null,
            "right": null,
            "top": null,
            "visibility": null,
            "width": null
          }
        },
        "a3b258aec61f4c0097b67b6ca2e1e364": {
          "model_module": "@jupyter-widgets/controls",
          "model_name": "DescriptionStyleModel",
          "model_module_version": "1.5.0",
          "state": {
            "_model_module": "@jupyter-widgets/controls",
            "_model_module_version": "1.5.0",
            "_model_name": "DescriptionStyleModel",
            "_view_count": null,
            "_view_module": "@jupyter-widgets/base",
            "_view_module_version": "1.2.0",
            "_view_name": "StyleView",
            "description_width": ""
          }
        },
        "6cde6bc019d64e3dbcb237a5cff00011": {
          "model_module": "@jupyter-widgets/base",
          "model_name": "LayoutModel",
          "model_module_version": "1.2.0",
          "state": {
            "_model_module": "@jupyter-widgets/base",
            "_model_module_version": "1.2.0",
            "_model_name": "LayoutModel",
            "_view_count": null,
            "_view_module": "@jupyter-widgets/base",
            "_view_module_version": "1.2.0",
            "_view_name": "LayoutView",
            "align_content": null,
            "align_items": null,
            "align_self": null,
            "border": null,
            "bottom": null,
            "display": null,
            "flex": null,
            "flex_flow": null,
            "grid_area": null,
            "grid_auto_columns": null,
            "grid_auto_flow": null,
            "grid_auto_rows": null,
            "grid_column": null,
            "grid_gap": null,
            "grid_row": null,
            "grid_template_areas": null,
            "grid_template_columns": null,
            "grid_template_rows": null,
            "height": null,
            "justify_content": null,
            "justify_items": null,
            "left": null,
            "margin": null,
            "max_height": null,
            "max_width": null,
            "min_height": null,
            "min_width": null,
            "object_fit": null,
            "object_position": null,
            "order": null,
            "overflow": null,
            "overflow_x": null,
            "overflow_y": null,
            "padding": null,
            "right": null,
            "top": null,
            "visibility": null,
            "width": null
          }
        },
        "2efcfb4320b9447a85b49a93590a4d02": {
          "model_module": "@jupyter-widgets/controls",
          "model_name": "ProgressStyleModel",
          "model_module_version": "1.5.0",
          "state": {
            "_model_module": "@jupyter-widgets/controls",
            "_model_module_version": "1.5.0",
            "_model_name": "ProgressStyleModel",
            "_view_count": null,
            "_view_module": "@jupyter-widgets/base",
            "_view_module_version": "1.2.0",
            "_view_name": "StyleView",
            "bar_color": null,
            "description_width": ""
          }
        },
        "4567db2f749a4a329249ce8a10f8a19e": {
          "model_module": "@jupyter-widgets/base",
          "model_name": "LayoutModel",
          "model_module_version": "1.2.0",
          "state": {
            "_model_module": "@jupyter-widgets/base",
            "_model_module_version": "1.2.0",
            "_model_name": "LayoutModel",
            "_view_count": null,
            "_view_module": "@jupyter-widgets/base",
            "_view_module_version": "1.2.0",
            "_view_name": "LayoutView",
            "align_content": null,
            "align_items": null,
            "align_self": null,
            "border": null,
            "bottom": null,
            "display": null,
            "flex": null,
            "flex_flow": null,
            "grid_area": null,
            "grid_auto_columns": null,
            "grid_auto_flow": null,
            "grid_auto_rows": null,
            "grid_column": null,
            "grid_gap": null,
            "grid_row": null,
            "grid_template_areas": null,
            "grid_template_columns": null,
            "grid_template_rows": null,
            "height": null,
            "justify_content": null,
            "justify_items": null,
            "left": null,
            "margin": null,
            "max_height": null,
            "max_width": null,
            "min_height": null,
            "min_width": null,
            "object_fit": null,
            "object_position": null,
            "order": null,
            "overflow": null,
            "overflow_x": null,
            "overflow_y": null,
            "padding": null,
            "right": null,
            "top": null,
            "visibility": null,
            "width": null
          }
        },
        "13a2e3967cd34e47a03a569ad8407791": {
          "model_module": "@jupyter-widgets/controls",
          "model_name": "DescriptionStyleModel",
          "model_module_version": "1.5.0",
          "state": {
            "_model_module": "@jupyter-widgets/controls",
            "_model_module_version": "1.5.0",
            "_model_name": "DescriptionStyleModel",
            "_view_count": null,
            "_view_module": "@jupyter-widgets/base",
            "_view_module_version": "1.2.0",
            "_view_name": "StyleView",
            "description_width": ""
          }
        },
        "d0cc6bf451334b1db11a5da82b1c7901": {
          "model_module": "@jupyter-widgets/controls",
          "model_name": "HTMLModel",
          "model_module_version": "1.5.0",
          "state": {
            "_dom_classes": [],
            "_model_module": "@jupyter-widgets/controls",
            "_model_module_version": "1.5.0",
            "_model_name": "HTMLModel",
            "_view_count": null,
            "_view_module": "@jupyter-widgets/controls",
            "_view_module_version": "1.5.0",
            "_view_name": "HTMLView",
            "description": "",
            "description_tooltip": null,
            "layout": "IPY_MODEL_d6dec6aa8e294341a3a042a8596d2272",
            "placeholder": "​",
            "style": "IPY_MODEL_88d4fb0ed4fb4a129979dd40829d71ee",
            "value": "<img src=\"data:image/gif;base64,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\" />"
          }
        },
        "d6dec6aa8e294341a3a042a8596d2272": {
          "model_module": "@jupyter-widgets/base",
          "model_name": "LayoutModel",
          "model_module_version": "1.2.0",
          "state": {
            "_model_module": "@jupyter-widgets/base",
            "_model_module_version": "1.2.0",
            "_model_name": "LayoutModel",
            "_view_count": null,
            "_view_module": "@jupyter-widgets/base",
            "_view_module_version": "1.2.0",
            "_view_name": "LayoutView",
            "align_content": null,
            "align_items": null,
            "align_self": null,
            "border": null,
            "bottom": null,
            "display": null,
            "flex": null,
            "flex_flow": null,
            "grid_area": null,
            "grid_auto_columns": null,
            "grid_auto_flow": null,
            "grid_auto_rows": null,
            "grid_column": null,
            "grid_gap": null,
            "grid_row": null,
            "grid_template_areas": null,
            "grid_template_columns": null,
            "grid_template_rows": null,
            "height": null,
            "justify_content": null,
            "justify_items": null,
            "left": null,
            "margin": null,
            "max_height": null,
            "max_width": null,
            "min_height": null,
            "min_width": null,
            "object_fit": null,
            "object_position": null,
            "order": null,
            "overflow": null,
            "overflow_x": null,
            "overflow_y": null,
            "padding": null,
            "right": null,
            "top": null,
            "visibility": null,
            "width": null
          }
        },
        "88d4fb0ed4fb4a129979dd40829d71ee": {
          "model_module": "@jupyter-widgets/controls",
          "model_name": "DescriptionStyleModel",
          "model_module_version": "1.5.0",
          "state": {
            "_model_module": "@jupyter-widgets/controls",
            "_model_module_version": "1.5.0",
            "_model_name": "DescriptionStyleModel",
            "_view_count": null,
            "_view_module": "@jupyter-widgets/base",
            "_view_module_version": "1.2.0",
            "_view_name": "StyleView",
            "description_width": ""
          }
        },
        "3cb9686a19254fce82f300de9336b951": {
          "model_module": "@jupyter-widgets/controls",
          "model_name": "HTMLModel",
          "model_module_version": "1.5.0",
          "state": {
            "_dom_classes": [],
            "_model_module": "@jupyter-widgets/controls",
            "_model_module_version": "1.5.0",
            "_model_name": "HTMLModel",
            "_view_count": null,
            "_view_module": "@jupyter-widgets/controls",
            "_view_module_version": "1.5.0",
            "_view_name": "HTMLView",
            "description": "",
            "description_tooltip": null,
            "layout": "IPY_MODEL_e70482437126486e80f7edf2eec51f25",
            "placeholder": "​",
            "style": "IPY_MODEL_8d5ce9f990284877be23cd0e91a27cc5",
            "value": "<img src=\"data:image/gif;base64,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\" />"
          }
        },
        "e70482437126486e80f7edf2eec51f25": {
          "model_module": "@jupyter-widgets/base",
          "model_name": "LayoutModel",
          "model_module_version": "1.2.0",
          "state": {
            "_model_module": "@jupyter-widgets/base",
            "_model_module_version": "1.2.0",
            "_model_name": "LayoutModel",
            "_view_count": null,
            "_view_module": "@jupyter-widgets/base",
            "_view_module_version": "1.2.0",
            "_view_name": "LayoutView",
            "align_content": null,
            "align_items": null,
            "align_self": null,
            "border": null,
            "bottom": null,
            "display": null,
            "flex": null,
            "flex_flow": null,
            "grid_area": null,
            "grid_auto_columns": null,
            "grid_auto_flow": null,
            "grid_auto_rows": null,
            "grid_column": null,
            "grid_gap": null,
            "grid_row": null,
            "grid_template_areas": null,
            "grid_template_columns": null,
            "grid_template_rows": null,
            "height": null,
            "justify_content": null,
            "justify_items": null,
            "left": null,
            "margin": null,
            "max_height": null,
            "max_width": null,
            "min_height": null,
            "min_width": null,
            "object_fit": null,
            "object_position": null,
            "order": null,
            "overflow": null,
            "overflow_x": null,
            "overflow_y": null,
            "padding": null,
            "right": null,
            "top": null,
            "visibility": null,
            "width": null
          }
        },
        "8d5ce9f990284877be23cd0e91a27cc5": {
          "model_module": "@jupyter-widgets/controls",
          "model_name": "DescriptionStyleModel",
          "model_module_version": "1.5.0",
          "state": {
            "_model_module": "@jupyter-widgets/controls",
            "_model_module_version": "1.5.0",
            "_model_name": "DescriptionStyleModel",
            "_view_count": null,
            "_view_module": "@jupyter-widgets/base",
            "_view_module_version": "1.2.0",
            "_view_name": "StyleView",
            "description_width": ""
          }
        },
        "b517c211ee264233a7b0f0999906f65b": {
          "model_module": "@jupyter-widgets/controls",
          "model_name": "HTMLModel",
          "model_module_version": "1.5.0",
          "state": {
            "_dom_classes": [],
            "_model_module": "@jupyter-widgets/controls",
            "_model_module_version": "1.5.0",
            "_model_name": "HTMLModel",
            "_view_count": null,
            "_view_module": "@jupyter-widgets/controls",
            "_view_module_version": "1.5.0",
            "_view_name": "HTMLView",
            "description": "",
            "description_tooltip": null,
            "layout": "IPY_MODEL_65aaec7bec09462daf8bac60992f8877",
            "placeholder": "​",
            "style": "IPY_MODEL_38f6c563b0df431fa0746b60dde77ca6",
            "value": "<img src=\"data:image/gif;base64,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\" />"
          }
        },
        "65aaec7bec09462daf8bac60992f8877": {
          "model_module": "@jupyter-widgets/base",
          "model_name": "LayoutModel",
          "model_module_version": "1.2.0",
          "state": {
            "_model_module": "@jupyter-widgets/base",
            "_model_module_version": "1.2.0",
            "_model_name": "LayoutModel",
            "_view_count": null,
            "_view_module": "@jupyter-widgets/base",
            "_view_module_version": "1.2.0",
            "_view_name": "LayoutView",
            "align_content": null,
            "align_items": null,
            "align_self": null,
            "border": null,
            "bottom": null,
            "display": null,
            "flex": null,
            "flex_flow": null,
            "grid_area": null,
            "grid_auto_columns": null,
            "grid_auto_flow": null,
            "grid_auto_rows": null,
            "grid_column": null,
            "grid_gap": null,
            "grid_row": null,
            "grid_template_areas": null,
            "grid_template_columns": null,
            "grid_template_rows": null,
            "height": null,
            "justify_content": null,
            "justify_items": null,
            "left": null,
            "margin": null,
            "max_height": null,
            "max_width": null,
            "min_height": null,
            "min_width": null,
            "object_fit": null,
            "object_position": null,
            "order": null,
            "overflow": null,
            "overflow_x": null,
            "overflow_y": null,
            "padding": null,
            "right": null,
            "top": null,
            "visibility": null,
            "width": null
          }
        },
        "38f6c563b0df431fa0746b60dde77ca6": {
          "model_module": "@jupyter-widgets/controls",
          "model_name": "DescriptionStyleModel",
          "model_module_version": "1.5.0",
          "state": {
            "_model_module": "@jupyter-widgets/controls",
            "_model_module_version": "1.5.0",
            "_model_name": "DescriptionStyleModel",
            "_view_count": null,
            "_view_module": "@jupyter-widgets/base",
            "_view_module_version": "1.2.0",
            "_view_name": "StyleView",
            "description_width": ""
          }
        },
        "a73c7fd4dee44c9f98b320f44cd60e60": {
          "model_module": "@jupyter-widgets/controls",
          "model_name": "HTMLModel",
          "model_module_version": "1.5.0",
          "state": {
            "_dom_classes": [],
            "_model_module": "@jupyter-widgets/controls",
            "_model_module_version": "1.5.0",
            "_model_name": "HTMLModel",
            "_view_count": null,
            "_view_module": "@jupyter-widgets/controls",
            "_view_module_version": "1.5.0",
            "_view_name": "HTMLView",
            "description": "",
            "description_tooltip": null,
            "layout": "IPY_MODEL_23be34b7358448a7b9163b312f561739",
            "placeholder": "​",
            "style": "IPY_MODEL_c50b7a150aed4cee9c64de76c61f8e0c",
            "value": "<img src=\"data:image/gif;base64,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\" />"
          }
        },
        "23be34b7358448a7b9163b312f561739": {
          "model_module": "@jupyter-widgets/base",
          "model_name": "LayoutModel",
          "model_module_version": "1.2.0",
          "state": {
            "_model_module": "@jupyter-widgets/base",
            "_model_module_version": "1.2.0",
            "_model_name": "LayoutModel",
            "_view_count": null,
            "_view_module": "@jupyter-widgets/base",
            "_view_module_version": "1.2.0",
            "_view_name": "LayoutView",
            "align_content": null,
            "align_items": null,
            "align_self": null,
            "border": null,
            "bottom": null,
            "display": null,
            "flex": null,
            "flex_flow": null,
            "grid_area": null,
            "grid_auto_columns": null,
            "grid_auto_flow": null,
            "grid_auto_rows": null,
            "grid_column": null,
            "grid_gap": null,
            "grid_row": null,
            "grid_template_areas": null,
            "grid_template_columns": null,
            "grid_template_rows": null,
            "height": null,
            "justify_content": null,
            "justify_items": null,
            "left": null,
            "margin": null,
            "max_height": null,
            "max_width": null,
            "min_height": null,
            "min_width": null,
            "object_fit": null,
            "object_position": null,
            "order": null,
            "overflow": null,
            "overflow_x": null,
            "overflow_y": null,
            "padding": null,
            "right": null,
            "top": null,
            "visibility": null,
            "width": null
          }
        },
        "c50b7a150aed4cee9c64de76c61f8e0c": {
          "model_module": "@jupyter-widgets/controls",
          "model_name": "DescriptionStyleModel",
          "model_module_version": "1.5.0",
          "state": {
            "_model_module": "@jupyter-widgets/controls",
            "_model_module_version": "1.5.0",
            "_model_name": "DescriptionStyleModel",
            "_view_count": null,
            "_view_module": "@jupyter-widgets/base",
            "_view_module_version": "1.2.0",
            "_view_name": "StyleView",
            "description_width": ""
          }
        }
      }
    }
  },
  "cells": [
    {
      "cell_type": "code",
      "execution_count": 1,
      "metadata": {
        "colab": {
          "base_uri": "https://localhost:8080/"
        },
        "id": "R1HsYubfBIos",
        "outputId": "b79ed95e-ea5c-4175-d3ea-85a4840e7bdd"
      },
      "outputs": [
        {
          "output_type": "stream",
          "name": "stdout",
          "text": [
            "Cloning into 'shap-e'...\n",
            "remote: Enumerating objects: 336, done.\u001b[K\n",
            "remote: Counting objects: 100% (55/55), done.\u001b[K\n",
            "remote: Compressing objects: 100% (42/42), done.\u001b[K\n",
            "remote: Total 336 (delta 35), reused 13 (delta 13), pack-reused 281 (from 2)\u001b[K\n",
            "Receiving objects: 100% (336/336), 11.72 MiB | 15.90 MiB/s, done.\n",
            "Resolving deltas: 100% (43/43), done.\n"
          ]
        }
      ],
      "source": [
        "!git clone https://github.com/openai/shap-e.git\n"
      ]
    },
    {
      "cell_type": "code",
      "source": [
        "%cd shap-e"
      ],
      "metadata": {
        "colab": {
          "base_uri": "https://localhost:8080/"
        },
        "id": "17lFT33uBPmJ",
        "outputId": "41f87202-883f-40c3-c691-eb947e52cd25"
      },
      "execution_count": 2,
      "outputs": [
        {
          "output_type": "stream",
          "name": "stdout",
          "text": [
            "/content/shap-e\n"
          ]
        }
      ]
    },
    {
      "cell_type": "code",
      "source": [
        "!pip install -e ."
      ],
      "metadata": {
        "colab": {
          "base_uri": "https://localhost:8080/"
        },
        "id": "C0raQOpABPin",
        "outputId": "a0a5b30b-456a-4516-ea72-ec299db89d94"
      },
      "execution_count": 3,
      "outputs": [
        {
          "output_type": "stream",
          "name": "stdout",
          "text": [
            "Obtaining file:///content/shap-e\n",
            "  Preparing metadata (setup.py) ... \u001b[?25l\u001b[?25hdone\n",
            "Collecting clip@ git+https://github.com/openai/CLIP.git (from shap-e==0.0.0)\n",
            "  Cloning https://github.com/openai/CLIP.git to /tmp/pip-install-97och_my/clip_e40495a8c3754a82bf7b29145be1a17b\n",
            "  Running command git clone --filter=blob:none --quiet https://github.com/openai/CLIP.git /tmp/pip-install-97och_my/clip_e40495a8c3754a82bf7b29145be1a17b\n",
            "  Resolved https://github.com/openai/CLIP.git to commit dcba3cb2e2827b402d2701e7e1c7d9fed8a20ef1\n",
            "  Preparing metadata (setup.py) ... \u001b[?25l\u001b[?25hdone\n",
            "Requirement already satisfied: filelock in /usr/local/lib/python3.11/dist-packages (from shap-e==0.0.0) (3.18.0)\n",
            "Requirement already satisfied: Pillow in /usr/local/lib/python3.11/dist-packages (from shap-e==0.0.0) (11.3.0)\n",
            "Requirement already satisfied: torch in /usr/local/lib/python3.11/dist-packages (from shap-e==0.0.0) (2.6.0+cu124)\n",
            "Collecting fire (from shap-e==0.0.0)\n",
            "  Downloading fire-0.7.0.tar.gz (87 kB)\n",
            "\u001b[2K     \u001b[90m━━━━━━━━━━━━━━━━━━━━━━━━━━━━━━━━━━━━━━━━\u001b[0m \u001b[32m87.2/87.2 kB\u001b[0m \u001b[31m7.7 MB/s\u001b[0m eta \u001b[36m0:00:00\u001b[0m\n",
            "\u001b[?25h  Preparing metadata (setup.py) ... \u001b[?25l\u001b[?25hdone\n",
            "Requirement already satisfied: humanize in /usr/local/lib/python3.11/dist-packages (from shap-e==0.0.0) (4.12.3)\n",
            "Requirement already satisfied: requests in /usr/local/lib/python3.11/dist-packages (from shap-e==0.0.0) (2.32.3)\n",
            "Requirement already satisfied: tqdm in /usr/local/lib/python3.11/dist-packages (from shap-e==0.0.0) (4.67.1)\n",
            "Requirement already satisfied: matplotlib in /usr/local/lib/python3.11/dist-packages (from shap-e==0.0.0) (3.10.0)\n",
            "Requirement already satisfied: scikit-image in /usr/local/lib/python3.11/dist-packages (from shap-e==0.0.0) (0.25.2)\n",
            "Requirement already satisfied: scipy in /usr/local/lib/python3.11/dist-packages (from shap-e==0.0.0) (1.16.0)\n",
            "Requirement already satisfied: numpy in /usr/local/lib/python3.11/dist-packages (from shap-e==0.0.0) (2.0.2)\n",
            "Requirement already satisfied: blobfile in /usr/local/lib/python3.11/dist-packages (from shap-e==0.0.0) (3.0.0)\n",
            "Requirement already satisfied: pycryptodomex>=3.8 in /usr/local/lib/python3.11/dist-packages (from blobfile->shap-e==0.0.0) (3.23.0)\n",
            "Requirement already satisfied: urllib3<3,>=1.25.3 in /usr/local/lib/python3.11/dist-packages (from blobfile->shap-e==0.0.0) (2.5.0)\n",
            "Requirement already satisfied: lxml>=4.9 in /usr/local/lib/python3.11/dist-packages (from blobfile->shap-e==0.0.0) (5.4.0)\n",
            "Collecting ftfy (from clip@ git+https://github.com/openai/CLIP.git->shap-e==0.0.0)\n",
            "  Downloading ftfy-6.3.1-py3-none-any.whl.metadata (7.3 kB)\n",
            "Requirement already satisfied: packaging in /usr/local/lib/python3.11/dist-packages (from clip@ git+https://github.com/openai/CLIP.git->shap-e==0.0.0) (25.0)\n",
            "Requirement already satisfied: regex in /usr/local/lib/python3.11/dist-packages (from clip@ git+https://github.com/openai/CLIP.git->shap-e==0.0.0) (2024.11.6)\n",
            "Requirement already satisfied: torchvision in /usr/local/lib/python3.11/dist-packages (from clip@ git+https://github.com/openai/CLIP.git->shap-e==0.0.0) (0.21.0+cu124)\n",
            "Requirement already satisfied: termcolor in /usr/local/lib/python3.11/dist-packages (from fire->shap-e==0.0.0) (3.1.0)\n",
            "Requirement already satisfied: contourpy>=1.0.1 in /usr/local/lib/python3.11/dist-packages (from matplotlib->shap-e==0.0.0) (1.3.2)\n",
            "Requirement already satisfied: cycler>=0.10 in /usr/local/lib/python3.11/dist-packages (from matplotlib->shap-e==0.0.0) (0.12.1)\n",
            "Requirement already satisfied: fonttools>=4.22.0 in /usr/local/lib/python3.11/dist-packages (from matplotlib->shap-e==0.0.0) (4.59.0)\n",
            "Requirement already satisfied: kiwisolver>=1.3.1 in /usr/local/lib/python3.11/dist-packages (from matplotlib->shap-e==0.0.0) (1.4.8)\n",
            "Requirement already satisfied: pyparsing>=2.3.1 in /usr/local/lib/python3.11/dist-packages (from matplotlib->shap-e==0.0.0) (3.2.3)\n",
            "Requirement already satisfied: python-dateutil>=2.7 in /usr/local/lib/python3.11/dist-packages (from matplotlib->shap-e==0.0.0) (2.9.0.post0)\n",
            "Requirement already satisfied: charset-normalizer<4,>=2 in /usr/local/lib/python3.11/dist-packages (from requests->shap-e==0.0.0) (3.4.2)\n",
            "Requirement already satisfied: idna<4,>=2.5 in /usr/local/lib/python3.11/dist-packages (from requests->shap-e==0.0.0) (3.10)\n",
            "Requirement already satisfied: certifi>=2017.4.17 in /usr/local/lib/python3.11/dist-packages (from requests->shap-e==0.0.0) (2025.7.14)\n",
            "Requirement already satisfied: networkx>=3.0 in /usr/local/lib/python3.11/dist-packages (from scikit-image->shap-e==0.0.0) (3.5)\n",
            "Requirement already satisfied: imageio!=2.35.0,>=2.33 in /usr/local/lib/python3.11/dist-packages (from scikit-image->shap-e==0.0.0) (2.37.0)\n",
            "Requirement already satisfied: tifffile>=2022.8.12 in /usr/local/lib/python3.11/dist-packages (from scikit-image->shap-e==0.0.0) (2025.6.11)\n",
            "Requirement already satisfied: lazy-loader>=0.4 in /usr/local/lib/python3.11/dist-packages (from scikit-image->shap-e==0.0.0) (0.4)\n",
            "Requirement already satisfied: typing-extensions>=4.10.0 in /usr/local/lib/python3.11/dist-packages (from torch->shap-e==0.0.0) (4.14.1)\n",
            "Requirement already satisfied: jinja2 in /usr/local/lib/python3.11/dist-packages (from torch->shap-e==0.0.0) (3.1.6)\n",
            "Requirement already satisfied: fsspec in /usr/local/lib/python3.11/dist-packages (from torch->shap-e==0.0.0) (2025.3.0)\n",
            "Collecting nvidia-cuda-nvrtc-cu12==12.4.127 (from torch->shap-e==0.0.0)\n",
            "  Downloading nvidia_cuda_nvrtc_cu12-12.4.127-py3-none-manylinux2014_x86_64.whl.metadata (1.5 kB)\n",
            "Collecting nvidia-cuda-runtime-cu12==12.4.127 (from torch->shap-e==0.0.0)\n",
            "  Downloading nvidia_cuda_runtime_cu12-12.4.127-py3-none-manylinux2014_x86_64.whl.metadata (1.5 kB)\n",
            "Collecting nvidia-cuda-cupti-cu12==12.4.127 (from torch->shap-e==0.0.0)\n",
            "  Downloading nvidia_cuda_cupti_cu12-12.4.127-py3-none-manylinux2014_x86_64.whl.metadata (1.6 kB)\n",
            "Collecting nvidia-cudnn-cu12==9.1.0.70 (from torch->shap-e==0.0.0)\n",
            "  Downloading nvidia_cudnn_cu12-9.1.0.70-py3-none-manylinux2014_x86_64.whl.metadata (1.6 kB)\n",
            "Collecting nvidia-cublas-cu12==12.4.5.8 (from torch->shap-e==0.0.0)\n",
            "  Downloading nvidia_cublas_cu12-12.4.5.8-py3-none-manylinux2014_x86_64.whl.metadata (1.5 kB)\n",
            "Collecting nvidia-cufft-cu12==11.2.1.3 (from torch->shap-e==0.0.0)\n",
            "  Downloading nvidia_cufft_cu12-11.2.1.3-py3-none-manylinux2014_x86_64.whl.metadata (1.5 kB)\n",
            "Collecting nvidia-curand-cu12==10.3.5.147 (from torch->shap-e==0.0.0)\n",
            "  Downloading nvidia_curand_cu12-10.3.5.147-py3-none-manylinux2014_x86_64.whl.metadata (1.5 kB)\n",
            "Collecting nvidia-cusolver-cu12==11.6.1.9 (from torch->shap-e==0.0.0)\n",
            "  Downloading nvidia_cusolver_cu12-11.6.1.9-py3-none-manylinux2014_x86_64.whl.metadata (1.6 kB)\n",
            "Collecting nvidia-cusparse-cu12==12.3.1.170 (from torch->shap-e==0.0.0)\n",
            "  Downloading nvidia_cusparse_cu12-12.3.1.170-py3-none-manylinux2014_x86_64.whl.metadata (1.6 kB)\n",
            "Requirement already satisfied: nvidia-cusparselt-cu12==0.6.2 in /usr/local/lib/python3.11/dist-packages (from torch->shap-e==0.0.0) (0.6.2)\n",
            "Requirement already satisfied: nvidia-nccl-cu12==2.21.5 in /usr/local/lib/python3.11/dist-packages (from torch->shap-e==0.0.0) (2.21.5)\n",
            "Requirement already satisfied: nvidia-nvtx-cu12==12.4.127 in /usr/local/lib/python3.11/dist-packages (from torch->shap-e==0.0.0) (12.4.127)\n",
            "Collecting nvidia-nvjitlink-cu12==12.4.127 (from torch->shap-e==0.0.0)\n",
            "  Downloading nvidia_nvjitlink_cu12-12.4.127-py3-none-manylinux2014_x86_64.whl.metadata (1.5 kB)\n",
            "Requirement already satisfied: triton==3.2.0 in /usr/local/lib/python3.11/dist-packages (from torch->shap-e==0.0.0) (3.2.0)\n",
            "Requirement already satisfied: sympy==1.13.1 in /usr/local/lib/python3.11/dist-packages (from torch->shap-e==0.0.0) (1.13.1)\n",
            "Requirement already satisfied: mpmath<1.4,>=1.1.0 in /usr/local/lib/python3.11/dist-packages (from sympy==1.13.1->torch->shap-e==0.0.0) (1.3.0)\n",
            "Requirement already satisfied: six>=1.5 in /usr/local/lib/python3.11/dist-packages (from python-dateutil>=2.7->matplotlib->shap-e==0.0.0) (1.17.0)\n",
            "Requirement already satisfied: wcwidth in /usr/local/lib/python3.11/dist-packages (from ftfy->clip@ git+https://github.com/openai/CLIP.git->shap-e==0.0.0) (0.2.13)\n",
            "Requirement already satisfied: MarkupSafe>=2.0 in /usr/local/lib/python3.11/dist-packages (from jinja2->torch->shap-e==0.0.0) (3.0.2)\n",
            "Downloading nvidia_cublas_cu12-12.4.5.8-py3-none-manylinux2014_x86_64.whl (363.4 MB)\n",
            "\u001b[2K   \u001b[90m━━━━━━━━━━━━━━━━━━━━━━━━━━━━━━━━━━━━━━━━\u001b[0m \u001b[32m363.4/363.4 MB\u001b[0m \u001b[31m3.9 MB/s\u001b[0m eta \u001b[36m0:00:00\u001b[0m\n",
            "\u001b[?25hDownloading nvidia_cuda_cupti_cu12-12.4.127-py3-none-manylinux2014_x86_64.whl (13.8 MB)\n",
            "\u001b[2K   \u001b[90m━━━━━━━━━━━━━━━━━━━━━━━━━━━━━━━━━━━━━━━━\u001b[0m \u001b[32m13.8/13.8 MB\u001b[0m \u001b[31m126.6 MB/s\u001b[0m eta \u001b[36m0:00:00\u001b[0m\n",
            "\u001b[?25hDownloading nvidia_cuda_nvrtc_cu12-12.4.127-py3-none-manylinux2014_x86_64.whl (24.6 MB)\n",
            "\u001b[2K   \u001b[90m━━━━━━━━━━━━━━━━━━━━━━━━━━━━━━━━━━━━━━━━\u001b[0m \u001b[32m24.6/24.6 MB\u001b[0m \u001b[31m98.0 MB/s\u001b[0m eta \u001b[36m0:00:00\u001b[0m\n",
            "\u001b[?25hDownloading nvidia_cuda_runtime_cu12-12.4.127-py3-none-manylinux2014_x86_64.whl (883 kB)\n",
            "\u001b[2K   \u001b[90m━━━━━━━━━━━━━━━━━━━━━━━━━━━━━━━━━━━━━━━━\u001b[0m \u001b[32m883.7/883.7 kB\u001b[0m \u001b[31m58.1 MB/s\u001b[0m eta \u001b[36m0:00:00\u001b[0m\n",
            "\u001b[?25hDownloading nvidia_cudnn_cu12-9.1.0.70-py3-none-manylinux2014_x86_64.whl (664.8 MB)\n",
            "\u001b[2K   \u001b[90m━━━━━━━━━━━━━━━━━━━━━━━━━━━━━━━━━━━━━━━━\u001b[0m \u001b[32m664.8/664.8 MB\u001b[0m \u001b[31m2.9 MB/s\u001b[0m eta \u001b[36m0:00:00\u001b[0m\n",
            "\u001b[?25hDownloading nvidia_cufft_cu12-11.2.1.3-py3-none-manylinux2014_x86_64.whl (211.5 MB)\n",
            "\u001b[2K   \u001b[90m━━━━━━━━━━━━━━━━━━━━━━━━━━━━━━━━━━━━━━━━\u001b[0m \u001b[32m211.5/211.5 MB\u001b[0m \u001b[31m5.2 MB/s\u001b[0m eta \u001b[36m0:00:00\u001b[0m\n",
            "\u001b[?25hDownloading nvidia_curand_cu12-10.3.5.147-py3-none-manylinux2014_x86_64.whl (56.3 MB)\n",
            "\u001b[2K   \u001b[90m━━━━━━━━━━━━━━━━━━━━━━━━━━━━━━━━━━━━━━━━\u001b[0m \u001b[32m56.3/56.3 MB\u001b[0m \u001b[31m23.7 MB/s\u001b[0m eta \u001b[36m0:00:00\u001b[0m\n",
            "\u001b[?25hDownloading nvidia_cusolver_cu12-11.6.1.9-py3-none-manylinux2014_x86_64.whl (127.9 MB)\n",
            "\u001b[2K   \u001b[90m━━━━━━━━━━━━━━━━━━━━━━━━━━━━━━━━━━━━━━━━\u001b[0m \u001b[32m127.9/127.9 MB\u001b[0m \u001b[31m7.3 MB/s\u001b[0m eta \u001b[36m0:00:00\u001b[0m\n",
            "\u001b[?25hDownloading nvidia_cusparse_cu12-12.3.1.170-py3-none-manylinux2014_x86_64.whl (207.5 MB)\n",
            "\u001b[2K   \u001b[90m━━━━━━━━━━━━━━━━━━━━━━━━━━━━━━━━━━━━━━━━\u001b[0m \u001b[32m207.5/207.5 MB\u001b[0m \u001b[31m5.3 MB/s\u001b[0m eta \u001b[36m0:00:00\u001b[0m\n",
            "\u001b[?25hDownloading nvidia_nvjitlink_cu12-12.4.127-py3-none-manylinux2014_x86_64.whl (21.1 MB)\n",
            "\u001b[2K   \u001b[90m━━━━━━━━━━━━━━━━━━━━━━━━━━━━━━━━━━━━━━━━\u001b[0m \u001b[32m21.1/21.1 MB\u001b[0m \u001b[31m77.6 MB/s\u001b[0m eta \u001b[36m0:00:00\u001b[0m\n",
            "\u001b[?25hDownloading ftfy-6.3.1-py3-none-any.whl (44 kB)\n",
            "\u001b[2K   \u001b[90m━━━━━━━━━━━━━━━━━━━━━━━━━━━━━━━━━━━━━━━━\u001b[0m \u001b[32m44.8/44.8 kB\u001b[0m \u001b[31m4.4 MB/s\u001b[0m eta \u001b[36m0:00:00\u001b[0m\n",
            "\u001b[?25hBuilding wheels for collected packages: clip, fire\n",
            "  Building wheel for clip (setup.py) ... \u001b[?25l\u001b[?25hdone\n",
            "  Created wheel for clip: filename=clip-1.0-py3-none-any.whl size=1369490 sha256=16d2436fa0efa835e0f35dd1cc1db78e20598ed1a95f4bb17dc921d0be202294\n",
            "  Stored in directory: /tmp/pip-ephem-wheel-cache-npvmawwc/wheels/3f/7c/a4/9b490845988bf7a4db33674d52f709f088f64392063872eb9a\n",
            "  Building wheel for fire (setup.py) ... \u001b[?25l\u001b[?25hdone\n",
            "  Created wheel for fire: filename=fire-0.7.0-py3-none-any.whl size=114249 sha256=9277850fe6dfc586a04bb9608278fecdd2cd01339e8f306dc8d865ae1d05c32e\n",
            "  Stored in directory: /root/.cache/pip/wheels/46/54/24/1624fd5b8674eb1188623f7e8e17cdf7c0f6c24b609dfb8a89\n",
            "Successfully built clip fire\n",
            "Installing collected packages: nvidia-nvjitlink-cu12, nvidia-curand-cu12, nvidia-cufft-cu12, nvidia-cuda-runtime-cu12, nvidia-cuda-nvrtc-cu12, nvidia-cuda-cupti-cu12, nvidia-cublas-cu12, ftfy, fire, nvidia-cusparse-cu12, nvidia-cudnn-cu12, nvidia-cusolver-cu12, clip, shap-e\n",
            "  Attempting uninstall: nvidia-nvjitlink-cu12\n",
            "    Found existing installation: nvidia-nvjitlink-cu12 12.5.82\n",
            "    Uninstalling nvidia-nvjitlink-cu12-12.5.82:\n",
            "      Successfully uninstalled nvidia-nvjitlink-cu12-12.5.82\n",
            "  Attempting uninstall: nvidia-curand-cu12\n",
            "    Found existing installation: nvidia-curand-cu12 10.3.6.82\n",
            "    Uninstalling nvidia-curand-cu12-10.3.6.82:\n",
            "      Successfully uninstalled nvidia-curand-cu12-10.3.6.82\n",
            "  Attempting uninstall: nvidia-cufft-cu12\n",
            "    Found existing installation: nvidia-cufft-cu12 11.2.3.61\n",
            "    Uninstalling nvidia-cufft-cu12-11.2.3.61:\n",
            "      Successfully uninstalled nvidia-cufft-cu12-11.2.3.61\n",
            "  Attempting uninstall: nvidia-cuda-runtime-cu12\n",
            "    Found existing installation: nvidia-cuda-runtime-cu12 12.5.82\n",
            "    Uninstalling nvidia-cuda-runtime-cu12-12.5.82:\n",
            "      Successfully uninstalled nvidia-cuda-runtime-cu12-12.5.82\n",
            "  Attempting uninstall: nvidia-cuda-nvrtc-cu12\n",
            "    Found existing installation: nvidia-cuda-nvrtc-cu12 12.5.82\n",
            "    Uninstalling nvidia-cuda-nvrtc-cu12-12.5.82:\n",
            "      Successfully uninstalled nvidia-cuda-nvrtc-cu12-12.5.82\n",
            "  Attempting uninstall: nvidia-cuda-cupti-cu12\n",
            "    Found existing installation: nvidia-cuda-cupti-cu12 12.5.82\n",
            "    Uninstalling nvidia-cuda-cupti-cu12-12.5.82:\n",
            "      Successfully uninstalled nvidia-cuda-cupti-cu12-12.5.82\n",
            "  Attempting uninstall: nvidia-cublas-cu12\n",
            "    Found existing installation: nvidia-cublas-cu12 12.5.3.2\n",
            "    Uninstalling nvidia-cublas-cu12-12.5.3.2:\n",
            "      Successfully uninstalled nvidia-cublas-cu12-12.5.3.2\n",
            "  Attempting uninstall: nvidia-cusparse-cu12\n",
            "    Found existing installation: nvidia-cusparse-cu12 12.5.1.3\n",
            "    Uninstalling nvidia-cusparse-cu12-12.5.1.3:\n",
            "      Successfully uninstalled nvidia-cusparse-cu12-12.5.1.3\n",
            "  Attempting uninstall: nvidia-cudnn-cu12\n",
            "    Found existing installation: nvidia-cudnn-cu12 9.3.0.75\n",
            "    Uninstalling nvidia-cudnn-cu12-9.3.0.75:\n",
            "      Successfully uninstalled nvidia-cudnn-cu12-9.3.0.75\n",
            "  Attempting uninstall: nvidia-cusolver-cu12\n",
            "    Found existing installation: nvidia-cusolver-cu12 11.6.3.83\n",
            "    Uninstalling nvidia-cusolver-cu12-11.6.3.83:\n",
            "      Successfully uninstalled nvidia-cusolver-cu12-11.6.3.83\n",
            "  Running setup.py develop for shap-e\n",
            "Successfully installed clip-1.0 fire-0.7.0 ftfy-6.3.1 nvidia-cublas-cu12-12.4.5.8 nvidia-cuda-cupti-cu12-12.4.127 nvidia-cuda-nvrtc-cu12-12.4.127 nvidia-cuda-runtime-cu12-12.4.127 nvidia-cudnn-cu12-9.1.0.70 nvidia-cufft-cu12-11.2.1.3 nvidia-curand-cu12-10.3.5.147 nvidia-cusolver-cu12-11.6.1.9 nvidia-cusparse-cu12-12.3.1.170 nvidia-nvjitlink-cu12-12.4.127 shap-e-0.0.0\n"
          ]
        }
      ]
    },
    {
      "cell_type": "code",
      "source": [
        "import torch\n",
        "\n",
        "from shap_e.diffusion.sample import sample_latents\n",
        "from shap_e.diffusion.gaussian_diffusion import diffusion_from_config\n",
        "from shap_e.models.download import load_model, load_config\n",
        "from shap_e.util.notebooks import create_pan_cameras, decode_latent_images, gif_widget"
      ],
      "metadata": {
        "id": "WmsOi6CQBPgA"
      },
      "execution_count": 9,
      "outputs": []
    },
    {
      "cell_type": "code",
      "source": [
        "device = torch.device('cuda' if torch.cuda.is_available() else 'cpu')\n",
        "xm = load_model('transmitter', device=device)\n",
        "model = load_model('text300M', device=device)\n",
        "diffusion = diffusion_from_config(load_config('diffusion'))"
      ],
      "metadata": {
        "colab": {
          "base_uri": "https://localhost:8080/",
          "height": 49,
          "referenced_widgets": [
            "e86250c6d94b4eab876d16903eb95528",
            "78c7be77c2dd453aacf8936b6083d3cf",
            "c9c98c8ce6dd4e67aee9dde3b7702efc",
            "a57c720c42de49888d3ff95093b41842",
            "7c93564005ef45f5869d2329a60eb201",
            "1945803cd9534d498b0e18e914e3f3ed",
            "46b525eda53447bfad13fd40b03b55f3",
            "2a907b714fe44545aa1b7085843d829e",
            "9da090f7fb5a4d41bb595547f927f00a",
            "07307cfe61ef44ad822d9ab4160f7ceb",
            "897efbf577ae465e917cd5f95791471c"
          ]
        },
        "id": "W6hxyI8mBPdU",
        "outputId": "ea812403-2f64-458b-ac92-9542bdf25c45"
      },
      "execution_count": 11,
      "outputs": [
        {
          "output_type": "display_data",
          "data": {
            "text/plain": [
              "  0%|          | 0.00/1.78G [00:00<?, ?iB/s]"
            ],
            "application/vnd.jupyter.widget-view+json": {
              "version_major": 2,
              "version_minor": 0,
              "model_id": "e86250c6d94b4eab876d16903eb95528"
            }
          },
          "metadata": {}
        }
      ]
    },
    {
      "cell_type": "code",
      "source": [
        "# Define 4 prompts to generate 4 examples\n",
        "prompts = [\n",
        "    \"a robot\",\n",
        "    \"a futuristic car\",\n",
        "    \"a medieval sword\",\n",
        "    \"a flying drone\"\n",
        "]\n",
        "batch_size = len(prompts)\n",
        "guidance_scale = 15.0\n",
        "\n",
        "# Generate latents for each prompt\n",
        "latents = sample_latents(\n",
        "    batch_size=batch_size,\n",
        "    model=model,\n",
        "    diffusion=diffusion,\n",
        "    guidance_scale=guidance_scale,\n",
        "    model_kwargs=dict(texts=prompts),\n",
        "    progress=True,\n",
        "    clip_denoised=True,\n",
        "    use_fp16=True,\n",
        "    use_karras=True,\n",
        "    karras_steps=64,\n",
        "    sigma_min=1e-3,\n",
        "    sigma_max=160,\n",
        "    s_churn=0,\n",
        ")\n",
        "\n",
        "\n"
      ],
      "metadata": {
        "colab": {
          "base_uri": "https://localhost:8080/",
          "height": 49,
          "referenced_widgets": [
            "da1a1e47e06d4a91b6529653bfea546b",
            "1766cc3b3f6d4b4bb87e245d67a26ec4",
            "9e9d9ae9beb346b99bb31fcad8884f66",
            "ba8b4a945fe84756b184bdfc710918c6",
            "a8cd6e6e0d9348d180ffb7d4c2b9b636",
            "1391a5e0c096485fb472115668f5b69b",
            "a3b258aec61f4c0097b67b6ca2e1e364",
            "6cde6bc019d64e3dbcb237a5cff00011",
            "2efcfb4320b9447a85b49a93590a4d02",
            "4567db2f749a4a329249ce8a10f8a19e",
            "13a2e3967cd34e47a03a569ad8407791"
          ]
        },
        "id": "IHB7gNPpBPas",
        "outputId": "a515d51f-1d79-4a68-cd5d-9362b9e45bff"
      },
      "execution_count": 27,
      "outputs": [
        {
          "output_type": "display_data",
          "data": {
            "text/plain": [
              "  0%|          | 0/64 [00:00<?, ?it/s]"
            ],
            "application/vnd.jupyter.widget-view+json": {
              "version_major": 2,
              "version_minor": 0,
              "model_id": "da1a1e47e06d4a91b6529653bfea546b"
            }
          },
          "metadata": {}
        }
      ]
    },
    {
      "cell_type": "code",
      "source": [
        "render_mode = 'nerf' # or 'stf'\n",
        "size = 64\n",
        "\n",
        "cameras = create_pan_cameras(size, device)\n",
        "\n",
        "for i, latent in enumerate(latents):\n",
        "    images = decode_latent_images(xm, latent, cameras, rendering_mode=render_mode)\n",
        "    display(gif_widget(images))  # Shows a rotating GIF of the renders (in a notebook)\n",
        "    print(f\"Displayed 3D renders for prompt: {prompts[i]}\")"
      ],
      "metadata": {
        "colab": {
          "base_uri": "https://localhost:8080/",
          "height": 396,
          "referenced_widgets": [
            "d0cc6bf451334b1db11a5da82b1c7901",
            "d6dec6aa8e294341a3a042a8596d2272",
            "88d4fb0ed4fb4a129979dd40829d71ee",
            "3cb9686a19254fce82f300de9336b951",
            "e70482437126486e80f7edf2eec51f25",
            "8d5ce9f990284877be23cd0e91a27cc5",
            "b517c211ee264233a7b0f0999906f65b",
            "65aaec7bec09462daf8bac60992f8877",
            "38f6c563b0df431fa0746b60dde77ca6",
            "a73c7fd4dee44c9f98b320f44cd60e60",
            "23be34b7358448a7b9163b312f561739",
            "c50b7a150aed4cee9c64de76c61f8e0c"
          ]
        },
        "id": "M7ar2g6WBPYC",
        "outputId": "7886d314-bb0f-49e0-d7cf-1ec361b3de36"
      },
      "execution_count": 29,
      "outputs": [
        {
          "output_type": "display_data",
          "data": {
            "text/plain": [
              "HTML(value='<img src=\"data:image/gif;base64,R0lGODlhQABAAIcAAK2urq2ura2tra2trK2srKyurqytrKysraysrKqsrKmsrKyrrK…"
            ],
            "application/vnd.jupyter.widget-view+json": {
              "version_major": 2,
              "version_minor": 0,
              "model_id": "d0cc6bf451334b1db11a5da82b1c7901"
            }
          },
          "metadata": {}
        },
        {
          "output_type": "stream",
          "name": "stdout",
          "text": [
            "Displayed 3D renders for prompt: a robot\n"
          ]
        },
        {
          "output_type": "display_data",
          "data": {
            "text/plain": [
              "HTML(value='<img src=\"data:image/gif;base64,R0lGODlhQABAAIcAAAC34AC33wC24AC13wC13gCt1gCs1wCs1gCr2QCr1wCp1gCk0w…"
            ],
            "application/vnd.jupyter.widget-view+json": {
              "version_major": 2,
              "version_minor": 0,
              "model_id": "3cb9686a19254fce82f300de9336b951"
            }
          },
          "metadata": {}
        },
        {
          "output_type": "stream",
          "name": "stdout",
          "text": [
            "Displayed 3D renders for prompt: a futuristic car\n"
          ]
        },
        {
          "output_type": "display_data",
          "data": {
            "text/plain": [
              "HTML(value='<img src=\"data:image/gif;base64,R0lGODlhQABAAIYAALWyYrOuZa2qXayqX6upYqinYKimXaemXaalXaChbJ+ha6GgYZ…"
            ],
            "application/vnd.jupyter.widget-view+json": {
              "version_major": 2,
              "version_minor": 0,
              "model_id": "b517c211ee264233a7b0f0999906f65b"
            }
          },
          "metadata": {}
        },
        {
          "output_type": "stream",
          "name": "stdout",
          "text": [
            "Displayed 3D renders for prompt: a medieval sword\n"
          ]
        },
        {
          "output_type": "display_data",
          "data": {
            "text/plain": [
              "HTML(value='<img src=\"data:image/gif;base64,R0lGODlhQABAAIcAAACh+ACR4QCP4gCN5gCM5gCN4QCL5QCL4ACK3gCL0QCI3QCI1g…"
            ],
            "application/vnd.jupyter.widget-view+json": {
              "version_major": 2,
              "version_minor": 0,
              "model_id": "a73c7fd4dee44c9f98b320f44cd60e60"
            }
          },
          "metadata": {}
        },
        {
          "output_type": "stream",
          "name": "stdout",
          "text": [
            "Displayed 3D renders for prompt: a flying drone\n"
          ]
        }
      ]
    },
    {
      "cell_type": "code",
      "source": [
        "!pip install trimesh\n"
      ],
      "metadata": {
        "colab": {
          "base_uri": "https://localhost:8080/"
        },
        "id": "ggB_-4DKVQbH",
        "outputId": "5902a235-ac89-420b-9e57-f17680222b3d"
      },
      "execution_count": 34,
      "outputs": [
        {
          "output_type": "stream",
          "name": "stdout",
          "text": [
            "Collecting trimesh\n",
            "  Downloading trimesh-4.7.1-py3-none-any.whl.metadata (18 kB)\n",
            "Requirement already satisfied: numpy>=1.20 in /usr/local/lib/python3.11/dist-packages (from trimesh) (2.0.2)\n",
            "Downloading trimesh-4.7.1-py3-none-any.whl (709 kB)\n",
            "\u001b[?25l   \u001b[90m━━━━━━━━━━━━━━━━━━━━━━━━━━━━━━━━━━━━━━━━\u001b[0m \u001b[32m0.0/709.0 kB\u001b[0m \u001b[31m?\u001b[0m eta \u001b[36m-:--:--\u001b[0m\r\u001b[2K   \u001b[90m━━━━━━━━━━━━━━━━━━━━━━━━━━━━━━━━━━━━━━━━\u001b[0m \u001b[32m709.0/709.0 kB\u001b[0m \u001b[31m43.7 MB/s\u001b[0m eta \u001b[36m0:00:00\u001b[0m\n",
            "\u001b[?25hInstalling collected packages: trimesh\n",
            "Successfully installed trimesh-4.7.1\n"
          ]
        }
      ]
    },
    {
      "cell_type": "code",
      "source": [
        "from shap_e.util.notebooks import decode_latent_mesh\n",
        "\n",
        "for i, latent in enumerate(latents):\n",
        "    with open(f'example_mesh_{i}.obj', 'w') as f:\n",
        "        decode_latent_mesh(xm, latent).tri_mesh().write_obj(f)\n"
      ],
      "metadata": {
        "id": "Gv_pRbM_QKBn"
      },
      "execution_count": 35,
      "outputs": []
    }
  ]
}